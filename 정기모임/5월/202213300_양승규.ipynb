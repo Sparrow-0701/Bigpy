{
 "cells": [
  {
   "cell_type": "code",
   "execution_count": 5,
   "id": "ca45539c",
   "metadata": {},
   "outputs": [],
   "source": [
    "#1\n",
    "import numpy as np\n",
    "import pandas as pd\n",
    "import matplotlib as plt\n",
    "import csv"
   ]
  },
  {
   "cell_type": "code",
   "execution_count": 8,
   "id": "b414f860",
   "metadata": {},
   "outputs": [],
   "source": [
    "#2\n",
    "tdf = pd.read_csv('titanic.csv')\n"
   ]
  },
  {
   "cell_type": "code",
   "execution_count": 7,
   "id": "fa1e62ff",
   "metadata": {},
   "outputs": [
    {
     "name": "stdout",
     "output_type": "stream",
     "text": [
      "   survived  pclass     sex   age  sibsp  parch     fare embarked  class  \\\n",
      "0         0       3    male  22.0      1      0   7.2500        S  Third   \n",
      "1         1       1  female  38.0      1      0  71.2833        C  First   \n",
      "2         1       3  female  26.0      0      0   7.9250        S  Third   \n",
      "\n",
      "     who  adult_male deck  embark_town alive  alone  \n",
      "0    man        True  NaN  Southampton    no  False  \n",
      "1  woman       False    C    Cherbourg   yes  False  \n",
      "2  woman       False  NaN  Southampton   yes   True  \n"
     ]
    }
   ],
   "source": [
    "\n",
    "#3\n",
    "print(tdf.head(3))\n"
   ]
  },
  {
   "cell_type": "code",
   "execution_count": 10,
   "id": "615326a3",
   "metadata": {},
   "outputs": [
    {
     "name": "stdout",
     "output_type": "stream",
     "text": [
      "Index(['survived', 'pclass', 'sex', 'age', 'sibsp', 'parch', 'fare',\n",
      "       'embarked', 'class', 'who', 'adult_male', 'deck', 'embark_town',\n",
      "       'alive', 'alone'],\n",
      "      dtype='object')\n"
     ]
    }
   ],
   "source": [
    "#4\n",
    "print(tdf.columns)"
   ]
  },
  {
   "cell_type": "code",
   "execution_count": 11,
   "id": "78398f74",
   "metadata": {},
   "outputs": [
    {
     "name": "stdout",
     "output_type": "stream",
     "text": [
      "         survived      pclass         age       sibsp       parch        fare\n",
      "count  891.000000  891.000000  714.000000  891.000000  891.000000  891.000000\n",
      "mean     0.383838    2.308642   29.699118    0.523008    0.381594   32.204208\n",
      "std      0.486592    0.836071   14.526497    1.102743    0.806057   49.693429\n",
      "min      0.000000    1.000000    0.420000    0.000000    0.000000    0.000000\n",
      "25%      0.000000    2.000000   20.125000    0.000000    0.000000    7.910400\n",
      "50%      0.000000    3.000000   28.000000    0.000000    0.000000   14.454200\n",
      "75%      1.000000    3.000000   38.000000    1.000000    0.000000   31.000000\n",
      "max      1.000000    3.000000   80.000000    8.000000    6.000000  512.329200\n"
     ]
    }
   ],
   "source": [
    "#5\n",
    "print(tdf.describe())"
   ]
  },
  {
   "cell_type": "code",
   "execution_count": 53,
   "id": "64569eb6",
   "metadata": {},
   "outputs": [
    {
     "name": "stdout",
     "output_type": "stream",
     "text": [
      "survived         int64\n",
      "pclass           int64\n",
      "sex             object\n",
      "age            float64\n",
      "sibsp            int64\n",
      "parch            int64\n",
      "fare           float64\n",
      "embarked        object\n",
      "class           object\n",
      "who             object\n",
      "adult_male        bool\n",
      "deck            object\n",
      "embark_town     object\n",
      "alive           object\n",
      "alone             bool\n",
      "dtype: object\n"
     ]
    }
   ],
   "source": [
    "#6\n",
    "print(tdf.dtypes)"
   ]
  },
  {
   "cell_type": "code",
   "execution_count": 38,
   "id": "d1b5b073",
   "metadata": {},
   "outputs": [
    {
     "name": "stdout",
     "output_type": "stream",
     "text": [
      "[0       7.2500\n",
      "1      71.2833\n",
      "2       7.9250\n",
      "3      53.1000\n",
      "4       8.0500\n",
      "        ...   \n",
      "886    13.0000\n",
      "887    30.0000\n",
      "888    23.4500\n",
      "889    30.0000\n",
      "890     7.7500\n",
      "Name: fare, Length: 891, dtype: float64, 0       Third\n",
      "1       First\n",
      "2       Third\n",
      "3       First\n",
      "4       Third\n",
      "        ...  \n",
      "886    Second\n",
      "887     First\n",
      "888     Third\n",
      "889     First\n",
      "890     Third\n",
      "Name: class, Length: 891, dtype: object]\n"
     ]
    }
   ],
   "source": [
    "#7\n",
    "print([tdf['fare'],tdf['class']])"
   ]
  },
  {
   "cell_type": "code",
   "execution_count": 43,
   "id": "991c7363",
   "metadata": {},
   "outputs": [
    {
     "name": "stdout",
     "output_type": "stream",
     "text": [
      "    survived  pclass     sex   age  sibsp  parch     fare embarked   class  \\\n",
      "10         1       3  female   4.0      1      1  16.7000        S   Third   \n",
      "11         1       1  female  58.0      0      0  26.5500        S   First   \n",
      "12         0       3    male  20.0      0      0   8.0500        S   Third   \n",
      "13         0       3    male  39.0      1      5  31.2750        S   Third   \n",
      "14         0       3  female  14.0      0      0   7.8542        S   Third   \n",
      "15         1       2  female  55.0      0      0  16.0000        S  Second   \n",
      "\n",
      "      who  adult_male deck  embark_town alive  alone  \n",
      "10  child       False    G  Southampton   yes  False  \n",
      "11  woman       False    C  Southampton   yes   True  \n",
      "12    man        True  NaN  Southampton    no   True  \n",
      "13    man        True  NaN  Southampton    no  False  \n",
      "14  child       False  NaN  Southampton    no   True  \n",
      "15  woman       False  NaN  Southampton   yes   True  \n"
     ]
    }
   ],
   "source": [
    "#8\n",
    "print(tdf[10:16])"
   ]
  },
  {
   "cell_type": "code",
   "execution_count": 41,
   "id": "e805b28b",
   "metadata": {},
   "outputs": [
    {
     "name": "stdout",
     "output_type": "stream",
     "text": [
      "     class     fare\n",
      "21  Second  13.0000\n",
      "22   Third   8.0292\n",
      "23   First  35.5000\n"
     ]
    }
   ],
   "source": [
    "#9\n",
    "print(tdf[['class', 'fare']][21:24])"
   ]
  },
  {
   "cell_type": "code",
   "execution_count": 50,
   "id": "ee12e3d9",
   "metadata": {},
   "outputs": [
    {
     "name": "stdout",
     "output_type": "stream",
     "text": [
      "['female', np.float64(35.0), 'First', 'yes']\n",
      "['male', np.float64(36.0), 'First', 'yes']\n",
      "['male', np.float64(35.0), 'First', 'yes']\n"
     ]
    }
   ],
   "source": [
    "#10\n",
    "for i in range(0,len(tdf)):\n",
    "    if tdf['fare'][i] >= 300:\n",
    "        print([tdf['sex'][i],tdf['age'][i],tdf['class'][i],tdf['alive'][i]])\n",
    "    else:\n",
    "        continue"
   ]
  },
  {
   "cell_type": "code",
   "execution_count": null,
   "id": "9def8904",
   "metadata": {},
   "outputs": [
    {
     "name": "stdout",
     "output_type": "stream",
     "text": [
      "['Third' 'First' 'Second']\n"
     ]
    }
   ],
   "source": [
    "#11\n"
   ]
  }
 ],
 "metadata": {
  "kernelspec": {
   "display_name": "Python 3",
   "language": "python",
   "name": "python3"
  },
  "language_info": {
   "codemirror_mode": {
    "name": "ipython",
    "version": 3
   },
   "file_extension": ".py",
   "mimetype": "text/x-python",
   "name": "python",
   "nbconvert_exporter": "python",
   "pygments_lexer": "ipython3",
   "version": "3.13.1"
  }
 },
 "nbformat": 4,
 "nbformat_minor": 5
}
